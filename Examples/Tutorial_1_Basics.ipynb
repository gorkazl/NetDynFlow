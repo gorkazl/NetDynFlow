{
 "cells": [
  {
   "cell_type": "markdown",
   "metadata": {
    "deletable": true,
    "editable": true
   },
   "source": [
    "# Dynamic communicability and flow: principles and basic examples\n",
    "\n",
    "<br/>\n",
    "\n",
    "This notebook is an introductory tutorial for the use of dynamic communicability and flow to study complex networks.\n",
    "\n",
    "#### Outline\n",
    "* DynComFlow library installation and overview\n",
    "* Overview of basic concepts. \n",
    "* Example-1: Path graphs.\n",
    "* Example-2: Ring-lattice and randomization.\n",
    "\n",
    "----------\n",
    "\n",
    "### Dependencies\n",
    "\n",
    "The tutorial requires a Python 3.X installation together with NumPy and Matplotlib libraries. It also requires further in-house modules. [GAlib](https://github.com/gorkazl/pyGAlib) is a generic library for graph analysis; and [NetDynFlow](https://github.com/gorkazl/NetDynFlow) to estimate and study dynamic communicability and flow, and to perform the model-based temporal network analysis.\n",
    "\n",
    "\n",
    "#### Import the main libraries\n",
    "\n",
    "To get started, the first thing we need is to load the libraries we will need to work. Start importing the built-in and third party libraries.\n"
   ]
  },
  {
   "cell_type": "code",
   "execution_count": 1,
   "metadata": {
    "collapsed": true,
    "deletable": true,
    "editable": true
   },
   "outputs": [],
   "source": [
    "from __future__ import division, print_function\n",
    "\n",
    "from timeit import default_timer as timer\n",
    "#import matplotlib.pyplot as plt\n",
    "import matplotlib.pyplot as plt\n",
    "\n",
    "%matplotlib inline\n",
    "import numpy as np\n",
    "import numpy.linalg\n"
   ]
  },
  {
   "cell_type": "markdown",
   "metadata": {
    "deletable": true,
    "editable": true
   },
   "source": [
    "#### Import personal libraries\n",
    "\n",
    "The following cells will check whether *GAlib* and *NetDynFlow* are already installed in the current working environment, otherwise, `pip` will be called for the installation (a working internet connection is required). **NOTE**: The exclamation mark ( ! ) before ``pip install galib`` indicates to the Jupyter Notebook that the current line is a system command, which is then treated as if it were run from a terminal.\n"
   ]
  },
  {
   "cell_type": "code",
   "execution_count": 2,
   "metadata": {
    "collapsed": true,
    "deletable": true,
    "editable": true
   },
   "outputs": [],
   "source": [
    "## Check if GAlib is installed in the current environment, otherwise install\n",
    "try:\n",
    "    import galib\n",
    "except:\n",
    "    # Install from PyPI\n",
    "    print('Installing GAlib...')\n",
    "    ! pip install galib\n",
    "    import galib"
   ]
  },
  {
   "cell_type": "code",
   "execution_count": 3,
   "metadata": {
    "collapsed": true,
    "deletable": true,
    "editable": true
   },
   "outputs": [],
   "source": [
    "import galib.models\n",
    "import galib.tools"
   ]
  },
  {
   "cell_type": "code",
   "execution_count": 4,
   "metadata": {
    "collapsed": false,
    "deletable": true,
    "editable": true
   },
   "outputs": [],
   "source": [
    "## Check if NetDynFlow is installed in the current environment, otherwise install\n",
    "try:\n",
    "    import netdynflow\n",
    "except:\n",
    "    # Install from the GitHub repository\n",
    "    print('Installing NetDynFlow...')\n",
    "    #! pip install git+https://github.com/mb-BCA/NetDynFlow.git@master\n",
    "    ! pip install git+https://github.com/mb-BCA/NetDynFlow.git@version2\n",
    "\n",
    "import netdynflow as ndf"
   ]
  },
  {
   "cell_type": "code",
   "execution_count": 5,
   "metadata": {
    "collapsed": true,
    "deletable": true,
    "editable": true
   },
   "outputs": [],
   "source": [
    "# Explore the help functions of NetDynFlow\n",
    "# ndf?\n",
    "# ndf.core?\n",
    "# ndf.metrics?"
   ]
  },
  {
   "cell_type": "markdown",
   "metadata": {
    "deletable": true,
    "editable": true
   },
   "source": [
    "<br/>\n",
    "\n",
    "## Overview of basic concepts\n",
    "\n",
    "The aim of this framework is to extract information on a network's structure by exploring how perturbations propagate along it. Every node is assumed to behave as a linear Ornstein-Uhlenbeck process fed by Gaussian noise. Given that $A$ is the connectivity matrix (weighted or unweighted, directed or undirected) the dynamics of a node follows: \n",
    "\n",
    "$\\dot{x}_i = - \\frac{x_i}{\\tau} + \\sum_{j=1}^N x_j + \\xi_i $\n",
    "\n",
    "where $\\xi_i$ is a Gaussian white noise, independent at each node.\n",
    "\n",
    "<font color='red'>\n",
    "CONTINUE FROM HERE WITH A BRIEF SUMMARY OF THE MEANING OF THE DYNAMIC FLOW AND DYNAMIC COMMUNICABILITY AS AN SPECIAL CASE OF THE FLOW.\n",
    "</font>\n",
    "\n",
    "\n",
    "… quantifies the interactions between nodes over time (via the Green function). There are 4 points \n",
    "that can be seen in the following examples:\n",
    "    - communicability captures the global network feedback\n",
    "    - node-wise measures of input and output communicability capture their listening and broadcasting nature while taking network effects into account\n",
    "    - nodes without direct connections may have non-zero interactions because of network effects for xxx integration time\n",
    "    - the communicability matrix is first aligned with weights, then becomes homogeneous\n",
    "\n",
    "\n",
    "For further reference and citation, see:\n",
    "\n",
    "- M. Gilson, N. Kouvaris, G. Deco and G. Zamora-Lopez \"*[Framework based on communicability and flow to analyze complex networks](https://journals.aps.org/pre/abstract/10.1103/PhysRevE.97.052301)*\" Phys. Rev. E **97**, 052301 (2018).\n",
    "- M. Gilson, N. Kouvaris, et al. \"*[Network analysis of whole-brain fMRI dynamics: A new framework based on dynamic communicability](https://doi.org/10.1016/j.neuroimage.2019.116007)*\" NeuroImage **201**, 116007 (2019).\n",
    "\n"
   ]
  },
  {
   "cell_type": "markdown",
   "metadata": {
    "deletable": true,
    "editable": true
   },
   "source": [
    "<br/>\n",
    "\n",
    "## Example 1: First steps, a directed path\n",
    "\n",
    "### Dynamic flow\n",
    "We start by studying the flow and dynamic communicability on very simple graphs in order to understand the basic concepts. As a simple example we consider chain graphs as the one with directed arcs as in the figure below. We characterise how the perturbation applied to the first node propagates along the chain.\n",
    "\n",
    "<img src=\"Images/PathGraph_Directed1.pdf\" style=\"float:center; width:500px; height:50px\"  alt=\"Path Graph\" />\n",
    "\n",
    "First, we create the network and estimate its spectral radius in order to identify the largest time-constant τ we can apply to the leakage term so that the network dynamics are convergent."
   ]
  },
  {
   "cell_type": "code",
   "execution_count": 6,
   "metadata": {
    "collapsed": false,
    "deletable": true,
    "editable": true
   },
   "outputs": [
    {
     "name": "stdout",
     "output_type": "stream",
     "text": [
      "Spectral radius: 0.0\n",
      "Largest possible tau: inf\n"
     ]
    },
    {
     "name": "stderr",
     "output_type": "stream",
     "text": [
      "/Users/gorka/Library/Enthought/Canopy/edm/envs/py3/lib/python3.5/site-packages/ipykernel_launcher.py:11: RuntimeWarning: divide by zero encountered in double_scalars\n",
      "  # This is added back by InteractiveShellApp.init_path()\n"
     ]
    }
   ],
   "source": [
    "# Create a directed path graph of N = 6 nodes\n",
    "N = 6\n",
    "dirnet = galib.models.PathGraph(N, directed=True)\n",
    "\n",
    "# Find the spectral radius and the largest time constant \n",
    "evs = numpy.linalg.eigvals(dirnet)\n",
    "evsnorms = np.zeros(N, float)\n",
    "for i in range(N):\n",
    "    evsnorms[i] = numpy.linalg.norm(evs[i])\n",
    "evmax = evsnorms.max()\n",
    "maxtau = 1./evmax\n",
    "\n",
    "print( 'Spectral radius:', evmax )\n",
    "print( 'Largest possible tau:', maxtau)"
   ]
  },
  {
   "cell_type": "markdown",
   "metadata": {
    "deletable": true,
    "editable": true
   },
   "source": [
    "To cause a flow we need to _**set an external perturbation**_. Therefore, the matrix `sigma` is defined, which encodes the covariances between the external Gaussian noisy inputs. Since here we only want to excite the first node, `sigma` will be all zeros exept for its `[0,0]` element."
   ]
  },
  {
   "cell_type": "code",
   "execution_count": 7,
   "metadata": {
    "collapsed": false,
    "deletable": true,
    "editable": true
   },
   "outputs": [],
   "source": [
    "# Set the matrix of noisy inputs\n",
    "sigma = np.zeros((N,N), np.float)\n",
    "sigma[0,0] = 1.0\n",
    "\n",
    "# Set a time-constant\n",
    "tau = 1.0\n",
    "\n",
    "# Define the temporal resolution for the \"simulation\"\n",
    "tfinal = 10\n",
    "dt = 0.01\n",
    "tpoints = np.arange(0.0, tfinal+dt, dt)\n",
    "nsteps = len(tpoints)\n",
    "\n",
    "# Calculate the dynamic flow for a time span between 0 and tmax\n",
    "fullflow_dir = ndf.FullFlow(dirnet, tau, sigma, tmax=tfinal, timestep=dt, normed=True)\n",
    "dynflow_dir = ndf.DynFlow(dirnet, tau, sigma, tmax=tfinal, timestep=dt, normed=True) "
   ]
  },
  {
   "cell_type": "code",
   "execution_count": 8,
   "metadata": {
    "collapsed": false,
    "deletable": true,
    "editable": true
   },
   "outputs": [
    {
     "data": {
      "image/png": "[encoded data removed]",
      "text/plain": [
       "<matplotlib.figure.Figure at 0x121a505c0>"
      ]
     },
     "metadata": {},
     "output_type": "display_data"
    }
   ],
   "source": [
    "# Visualise the flow matrices at different times\n",
    "plt.figure()\n",
    "# Check for (temporal) indices: 0, 100, 200, 400, 600, 800\n",
    "#pp.imshow(fullflow_dir[600])\n",
    "plt.imshow(dynflow_dir[0])\n",
    "plt.colorbar()\n",
    "plt.show()"
   ]
  },
  {
   "cell_type": "code",
   "execution_count": 10,
   "metadata": {
    "collapsed": false,
    "deletable": true,
    "editable": true
   },
   "outputs": [
    {
     "data": {
      "image/png": "[encoded data removed]",
      "text/plain": [
       "<matplotlib.figure.Figure at 0x122ad5160>"
      ]
     },
     "metadata": {},
     "output_type": "display_data"
    }
   ],
   "source": [
    "# Calculate the in-/out- full-flow for every node\n",
    "# infullflow and outfullflow are two arrays of shape (N,nsteps)\n",
    "infullflow_dir, outfullflow_dir = ndf.NodeEvolution(fullflow_dir)\n",
    "\n",
    "# Plot a figure wit the input and output flows of every node\n",
    "plt.figure()\n",
    "plt.subplot(2,1,1)\n",
    "plt.title('Full-flow for every node. tau = %1.2f' %tau, fontsize=12)\n",
    "for i in range(N):\n",
    "    plt.plot(tpoints, infullflow_dir[:,i], label='i = %d' %(i+1))\n",
    "plt.ylim(-0.005,0.1)\n",
    "plt.ylabel('in-flow', fontsize=14)\n",
    "plt.legend(frameon=False)\n",
    "\n",
    "plt.subplot(2,1,2)\n",
    "for i in range(N):\n",
    "    plt.plot(tpoints, outfullflow_dir[:,i], label='i = %d' %(i+1))\n",
    "plt.ylabel('out-flow', fontsize=14)\n",
    "plt.xlabel('Time (a.u.)', fontsize=14)\n",
    "\n",
    "plt.show()"
   ]
  },
  {
   "cell_type": "code",
   "execution_count": 11,
   "metadata": {
    "collapsed": false,
    "deletable": true,
    "editable": true
   },
   "outputs": [
    {
     "data": {
      "image/png": "[encoded data removed]",
      "text/plain": [
       "<matplotlib.figure.Figure at 0x122b69be0>"
      ]
     },
     "metadata": {},
     "output_type": "display_data"
    }
   ],
   "source": [
    "# Calculate the in-/out- dynamic-flow for every node\n",
    "# inflow and outflow are two arrays of shape (N,nsteps)\n",
    "inflow_dir, outflow_dir = ndf.NodeEvolution(dynflow_dir)\n",
    "\n",
    "# Plot the input and output full-flow of every node\n",
    "plt.figure()\n",
    "plt.subplot(2,1,1)\n",
    "plt.title('Dynamic-flow for every node. tau = %1.2f' %tau, fontsize=12)\n",
    "for i in range(N):\n",
    "    plt.plot(tpoints, inflow_dir[:,i], label='i = %d' %(i+1))\n",
    "plt.ylim(-0.005,0.1)\n",
    "plt.ylabel('in-flow', fontsize=14)\n",
    "plt.legend(loc='center right', frameon=False)\n",
    "\n",
    "plt.subplot(2,1,2)\n",
    "for i in range(N):\n",
    "    plt.plot(tpoints, outflow_dir[:,i], label='i = %d' %(i+1))\n",
    "plt.ylabel('out-flow', fontsize=14)\n",
    "plt.xlabel('Time (a.u.)', fontsize=14)\n",
    "\n",
    "plt.show()"
   ]
  },
  {
   "cell_type": "markdown",
   "metadata": {
    "deletable": true,
    "editable": true
   },
   "source": [
    "#### Dynamic communicability\n",
    "\n",
    "The concept of flow is very general since it doesn't make any specific assumptions on which nodes are excited, and it even accepts the excitation of several nodes by correlated noise. That would be encoded by the extra-diagonal entries in the *sigma* matrix. For a generic and comparable method to study different networks, we name *dynamic communicability* to the special case of the flow in which every node is perturbed by independent Gaussian noise of the same variance. The idea is illustrated as follows:\n",
    "\n",
    "<img src=\"Images/PathGraph_Directed2.pdf\" style=\"float:center; width:500px; height:50px\"  alt=\"Path Graph\" />\n",
    "\n",
    "In this case, the *sigma* matrix is represented as the unit matrix **1**. Thus, notice that function `netdynflow.DynCom()` does not require `sigma` as an explicit input."
   ]
  },
  {
   "cell_type": "code",
   "execution_count": 12,
   "metadata": {
    "collapsed": true,
    "deletable": true,
    "editable": true
   },
   "outputs": [],
   "source": [
    "# Calculate the dynamic communicability for a time span between 0 and tmax\n",
    "dyncom_dir = ndf.DynCom(dirnet, tau, tmax=tfinal, timestep=dt, normed=True)"
   ]
  },
  {
   "cell_type": "code",
   "execution_count": 13,
   "metadata": {
    "collapsed": false,
    "deletable": true,
    "editable": true
   },
   "outputs": [
    {
     "data": {
      "image/png": "[encoded data removed]",
      "text/plain": [
       "<matplotlib.figure.Figure at 0x122a95160>"
      ]
     },
     "metadata": {},
     "output_type": "display_data"
    }
   ],
   "source": [
    "# Visualise the dynamic communicability matrices at different times\n",
    "plt.figure()\n",
    "# Check for (temporal) indices: 0, 100, 200, 400, 600, 800\n",
    "plt.imshow(dyncom_dir[0])\n",
    "plt.colorbar()\n",
    "plt.show()"
   ]
  },
  {
   "cell_type": "code",
   "execution_count": 14,
   "metadata": {
    "collapsed": false,
    "deletable": true,
    "editable": true
   },
   "outputs": [
    {
     "data": {
      "image/png": "[encoded data removed]",
      "text/plain": [
       "<matplotlib.figure.Figure at 0x122ea01d0>"
      ]
     },
     "metadata": {},
     "output_type": "display_data"
    }
   ],
   "source": [
    "# Calculate the in-/out- dynamic communicability for every node\n",
    "# indyncom and outdyncom are two arrays of shape (N,nsteps)\n",
    "indyncom_dir, outdyncom_dir = ndf.NodeEvolution(dyncom_dir)\n",
    "\n",
    "# Plot the input and output dynamic communicability of every node\n",
    "plt.figure()\n",
    "plt.subplot(2,1,1)\n",
    "plt.title('Dynamic communicability for every node. tau = %1.2f' %tau, fontsize=12)\n",
    "for i in range(N):\n",
    "    plt.plot(tpoints, indyncom_dir[:,i], label='i = %d' %(i+1))\n",
    "plt.ylabel('in-communic.', fontsize=14)\n",
    "plt.legend(frameon=False)\n",
    "\n",
    "plt.subplot(2,1,2)\n",
    "for i in range(N):\n",
    "    plt.plot(tpoints, outdyncom_dir[:,i], label='i = %d' %(i+1))\n",
    "plt.ylabel('out-communic.', fontsize=14)\n",
    "plt.xlabel('Time (a.u.)', fontsize=14)\n",
    "\n",
    "plt.show()"
   ]
  },
  {
   "cell_type": "markdown",
   "metadata": {
    "deletable": true,
    "editable": true
   },
   "source": [
    "<br/>\n",
    "\n",
    "We now repeat the study above but chains whose _**links are undirected**_ and follow the same perturbation \"protocols\" as illustrated below.\n",
    "\n",
    "<img src=\"Images/PathGraph_Undirected1.pdf\" style=\"float:center; width:500px; height:50px\"  alt=\"Path Graph\" />\n",
    "<img src=\"Images/PathGraph_Undirected2.pdf\" style=\"float:center; width:500px; height:50px\"  alt=\"Path Graph\" />\n",
    "\n",
    "In this case, the perturbations can diffuse in both directions. Also, the largest eigenvalue (λmax) of the path graph is finite, thus imposing a limitation to the largest τ time-constant. The condition **τmax < 1 / λmax** needs to be satisfied for the system to be convergent. Otherwise, if τmax > 1 / λmax, then leakage of \"energy\" at the nodes is insufficient to counterbalance the \"energy\" generated at the links, thus making the system diverge or explode.\n",
    "\n"
   ]
  },
  {
   "cell_type": "code",
   "execution_count": 15,
   "metadata": {
    "collapsed": false,
    "deletable": true,
    "editable": true
   },
   "outputs": [
    {
     "name": "stdout",
     "output_type": "stream",
     "text": [
      "Spectral radius: 1.8019377358048398\n",
      "Largest possible tau: 0.5549581320873707\n"
     ]
    }
   ],
   "source": [
    "# Create the undirected path graph of N = 6 nodes\n",
    "N = 6\n",
    "undnet = galib.models.PathGraph(N, directed=False)\n",
    "\n",
    "# Find the spectral radius and the largest time constant \n",
    "evs = numpy.linalg.eigvals(undnet)\n",
    "evsnorms = np.zeros(N, float)\n",
    "for i in range(N):\n",
    "    evsnorms[i] = numpy.linalg.norm(evs[i])\n",
    "evmax = evsnorms.max()\n",
    "maxtau = 1./evmax\n",
    "\n",
    "print( 'Spectral radius:', evmax )\n",
    "print( 'Largest possible tau:', maxtau)"
   ]
  },
  {
   "cell_type": "code",
   "execution_count": 16,
   "metadata": {
    "collapsed": false,
    "deletable": true,
    "editable": true
   },
   "outputs": [],
   "source": [
    "# Set the matrix of noisy inputs\n",
    "sigma = np.zeros((N,N), np.float)\n",
    "sigma[0,0] = 1.0\n",
    "# Set a time-constant\n",
    "tau = 0.45\n",
    "\n",
    "# Define the temporal resolution\n",
    "tfinal = 10\n",
    "dt = 0.01\n",
    "tpoints = np.arange(0.0, tfinal+dt, dt)\n",
    "nsteps = len(tpoints)\n",
    "\n",
    "# Calculate the dynamic flow for a time span between 0 and tmax\n",
    "dynflow_und = ndf.DynFlow(undnet, tau, sigma, tmax=tfinal, timestep=dt, normed=True)\n",
    "# Calculate the dynamic communicability for a time span between 0 and tmax\n",
    "dyncom_und = ndf.DynCom(undnet, tau, tmax=tfinal, timestep=dt, normed=True)"
   ]
  },
  {
   "cell_type": "code",
   "execution_count": 17,
   "metadata": {
    "collapsed": false,
    "deletable": true,
    "editable": true
   },
   "outputs": [
    {
     "data": {
      "image/png": "[encoded data removed]",
      "text/plain": [
       "<matplotlib.figure.Figure at 0x12372b1d0>"
      ]
     },
     "metadata": {},
     "output_type": "display_data"
    }
   ],
   "source": [
    "# Visualise the dynamic communicability matrices at different times\n",
    "plt.figure(figsize=(10,3.8))\n",
    "# Check for (temporal) indices: 0, 100, 200, 400, 600, 800\n",
    "tidx = 0\n",
    "\n",
    "# Plot the flow matrix\n",
    "plt.subplot(1,2,1)\n",
    "plt.imshow(dynflow_und[tidx], aspect='auto')\n",
    "plt.colorbar()\n",
    "\n",
    "# Plot the flow matrix\n",
    "plt.subplot(1,2,2)\n",
    "plt.imshow(dyncom_und[tidx], aspect='auto')\n",
    "plt.colorbar()\n",
    "\n",
    "#plt.tight_layout()\n",
    "plt.show()"
   ]
  },
  {
   "cell_type": "code",
   "execution_count": 18,
   "metadata": {
    "collapsed": false,
    "deletable": true,
    "editable": true
   },
   "outputs": [
    {
     "ename": "NameError",
     "evalue": "name 'pp' is not defined",
     "output_type": "error",
     "traceback": [
      "\u001b[0;31m---------------------------------------------------------------------------\u001b[0m",
      "\u001b[0;31mNameError\u001b[0m                                 Traceback (most recent call last)",
      "\u001b[0;32m<ipython-input-18-3a26f251e6aa>\u001b[0m in \u001b[0;36m<module>\u001b[0;34m()\u001b[0m\n\u001b[1;32m     10\u001b[0m \u001b[0mplt\u001b[0m\u001b[0;34m.\u001b[0m\u001b[0mtitle\u001b[0m\u001b[0;34m(\u001b[0m\u001b[0;34m'Dynamic-flow for every node. tau = %1.2f'\u001b[0m \u001b[0;34m%\u001b[0m\u001b[0mtau\u001b[0m\u001b[0;34m,\u001b[0m \u001b[0mfontsize\u001b[0m\u001b[0;34m=\u001b[0m\u001b[0;36m12\u001b[0m\u001b[0;34m)\u001b[0m\u001b[0;34m\u001b[0m\u001b[0m\n\u001b[1;32m     11\u001b[0m \u001b[0;32mfor\u001b[0m \u001b[0mi\u001b[0m \u001b[0;32min\u001b[0m \u001b[0mrange\u001b[0m\u001b[0;34m(\u001b[0m\u001b[0mN\u001b[0m\u001b[0;34m)\u001b[0m\u001b[0;34m:\u001b[0m\u001b[0;34m\u001b[0m\u001b[0m\n\u001b[0;32m---> 12\u001b[0;31m     \u001b[0mpp\u001b[0m\u001b[0;34m.\u001b[0m\u001b[0mplot\u001b[0m\u001b[0;34m(\u001b[0m\u001b[0mtpoints\u001b[0m\u001b[0;34m,\u001b[0m \u001b[0minflow_und\u001b[0m\u001b[0;34m[\u001b[0m\u001b[0;34m:\u001b[0m\u001b[0;34m,\u001b[0m\u001b[0mi\u001b[0m\u001b[0;34m]\u001b[0m\u001b[0;34m,\u001b[0m \u001b[0mlabel\u001b[0m\u001b[0;34m=\u001b[0m\u001b[0;34m'i = %d'\u001b[0m \u001b[0;34m%\u001b[0m\u001b[0;34m(\u001b[0m\u001b[0mi\u001b[0m\u001b[0;34m+\u001b[0m\u001b[0;36m1\u001b[0m\u001b[0;34m)\u001b[0m\u001b[0;34m)\u001b[0m\u001b[0;34m\u001b[0m\u001b[0m\n\u001b[0m\u001b[1;32m     13\u001b[0m \u001b[0;31m#pp.ylim(-0.005,0.1)\u001b[0m\u001b[0;34m\u001b[0m\u001b[0;34m\u001b[0m\u001b[0m\n\u001b[1;32m     14\u001b[0m \u001b[0mplt\u001b[0m\u001b[0;34m.\u001b[0m\u001b[0mylabel\u001b[0m\u001b[0;34m(\u001b[0m\u001b[0;34m'in-flow'\u001b[0m\u001b[0;34m,\u001b[0m \u001b[0mfontsize\u001b[0m\u001b[0;34m=\u001b[0m\u001b[0;36m14\u001b[0m\u001b[0;34m)\u001b[0m\u001b[0;34m\u001b[0m\u001b[0m\n",
      "\u001b[0;31mNameError\u001b[0m: name 'pp' is not defined"
     ]
    },
    {
     "data": {
      "image/png": "[encoded data removed]",
      "text/plain": [
       "<matplotlib.figure.Figure at 0x1235bb4a8>"
      ]
     },
     "metadata": {},
     "output_type": "display_data"
    }
   ],
   "source": [
    "# Calculate the in-/out- dynamic flow and communicability for every node\n",
    "inflow_und, outflow_und = ndf.NodeEvolution(dynflow_und)\n",
    "indyncom_und, outdyncom_und = ndf.NodeEvolution(dyncom_und)\n",
    "\n",
    "\n",
    "# Plot the input and output results for every node\n",
    "plt.figure(figsize=(10,5))\n",
    "# Plot the results for the in-/out-flow\n",
    "plt.subplot(2,2,1)\n",
    "plt.title('Dynamic-flow for every node. tau = %1.2f' %tau, fontsize=12)\n",
    "for i in range(N):\n",
    "    pp.plot(tpoints, inflow_und[:,i], label='i = %d' %(i+1))\n",
    "#pp.ylim(-0.005,0.1)\n",
    "plt.ylabel('in-flow', fontsize=14)\n",
    "plt.legend(loc='center right', frameon=False)\n",
    "\n",
    "plt.subplot(2,2,3)\n",
    "for i in range(N):\n",
    "    plt.plot(tpoints, outflow_und[:,i], label='i = %d' %(i+1))\n",
    "plt.ylabel('out-flow', fontsize=14)\n",
    "plt.xlabel('Time (a.u.)', fontsize=14)\n",
    "\n",
    "# Plot the results for the in-/out-dynamic communicability\n",
    "plt.subplot(2,2,2)\n",
    "plt.title('Dynamic communicability for every node. tau = %1.2f' %tau, fontsize=12)\n",
    "for i in range(N):\n",
    "    plt.plot(tpoints, indyncom_und[:,i], label='i = %d' %(i+1))\n",
    "plt.ylabel('in-communic.', fontsize=14)\n",
    "plt.legend(loc='center right', frameon=False)\n",
    "\n",
    "plt.subplot(2,2,4)\n",
    "for i in range(N):\n",
    "    plt.plot(tpoints, outdyncom_und[:,i], label='i = %d' %(i+1))\n",
    "plt.ylabel('out-communic.', fontsize=14)\n",
    "plt.xlabel('Time (a.u.)', fontsize=14)\n",
    "\n",
    "plt.tight_layout()\n",
    "plt.show()"
   ]
  },
  {
   "cell_type": "code",
   "execution_count": null,
   "metadata": {
    "collapsed": true,
    "deletable": true,
    "editable": true
   },
   "outputs": [],
   "source": []
  },
  {
   "cell_type": "code",
   "execution_count": null,
   "metadata": {
    "collapsed": true,
    "deletable": true,
    "editable": true
   },
   "outputs": [],
   "source": []
  },
  {
   "cell_type": "code",
   "execution_count": null,
   "metadata": {
    "collapsed": true,
    "deletable": true,
    "editable": true
   },
   "outputs": [],
   "source": []
  },
  {
   "cell_type": "code",
   "execution_count": null,
   "metadata": {
    "collapsed": true,
    "deletable": true,
    "editable": true
   },
   "outputs": [],
   "source": []
  },
  {
   "cell_type": "markdown",
   "metadata": {
    "deletable": true,
    "editable": true
   },
   "source": [
    "<br/>\n",
    "\n",
    "## Part 3:  Ring lattices and comparison with other benchmarks\n",
    "\n",
    "As a second example, we consider a network with xxx same notion of neighborhood, where node *i* is close to nodes *i-1* and *i+1* (note that indices *0* and *N-1* are also neighbors).\n",
    "\n",
    "Here the global feedback is related to *c_0* and the heterogeneity of the weights is controlled by *w_spread* (homogeneous weights for *w_spread = 0*).\n",
    "\n",
    "Setting *N = 4* nodes and *n = 1* reproduces parts of Fig. 2 and 3 in the paper:  Gilson M, Kouvaris NE, Deco G, Zamora-López G (2018) Phys Rev E, https://doi.org/10.1103/PhysRevE.97.052301."
   ]
  },
  {
   "cell_type": "code",
   "execution_count": null,
   "metadata": {
    "collapsed": false,
    "deletable": true,
    "editable": true
   },
   "outputs": [],
   "source": [
    "# network properties\n",
    "N = 10 # number of nodes\n",
    "\n",
    "tau = 1. # time constant (for exponential decay)\n",
    "\n",
    "c0 = 0.8 # average weight per node (global scaling factor)\n",
    "w_spread = 0.2 # spread of weights\n",
    "\n",
    "# create random connectivity matrix\n",
    "C = np.zeros([N,N])\n",
    "for i in range(N):\n",
    "    C[i-1,i] = c0 * (1+2*w_spread*(np.random.rand()-0.5)) # connection from i-1 to i\n",
    "    \n",
    "# range of integration time\n",
    "T = 20. # duration\n",
    "dt = 0.5 # time step\n",
    "vT = np.arange(0,T+dt*0.5,dt) # discrete simulation steps\n",
    "nT = vT.size\n",
    "\n",
    "# calculate dynamic communicability\n",
    "dc =  ndf.DynCom(C, tau, tmax=T, timestep=dt)\n",
    "\n",
    "# plot Jacobian\n",
    "J = -np.eye(N) / tau + C\n",
    "\n",
    "plt.figure(figsize=[3,3])\n",
    "plt.axes([0.2,0.25,0.65,0.65])\n",
    "plt.imshow(J,origin='lower',interpolation='nearest',vmin=-1,vmax=1,cmap='bwr')\n",
    "plt.xticks(range(N),np.arange(N)+1,fontsize=12)\n",
    "plt.yticks(range(N),np.arange(N)+1,fontsize=12)\n",
    "plt.colorbar()\n",
    "plt.xlabel('target node',fontsize=12)\n",
    "plt.ylabel('source node',fontsize=12)\n",
    "\n",
    "plt.show()"
   ]
  },
  {
   "cell_type": "code",
   "execution_count": null,
   "metadata": {
    "collapsed": false,
    "deletable": true,
    "editable": true
   },
   "outputs": [],
   "source": [
    "# communicability matrix at 3 integration times\n",
    "for t in [1,3,6]:\n",
    "    plt.figure(figsize=[3,3])\n",
    "    plt.axes([0.2,0.25,0.65,0.65])\n",
    "    plt.imshow(dc[int(t/dt)],origin='lower',interpolation='nearest',vmin=0,vmax=0.02,cmap='Reds')\n",
    "    plt.xticks(range(N),np.arange(N)+1,fontsize=12)\n",
    "    plt.yticks(range(N),np.arange(N)+1,fontsize=12)\n",
    "    plt.colorbar(ticks=[0,0.01,0.02])\n",
    "    plt.xlabel('target node',fontsize=12)\n",
    "    plt.ylabel('source node',fontsize=12)\n",
    "    plt.title('integration time '+str(t),fontsize=12)\n"
   ]
  },
  {
   "cell_type": "markdown",
   "metadata": {
    "deletable": true,
    "editable": true
   },
   "source": [
    "Total communicability is a time-dependent measure that sums all interactions bewteen pairs of nodes. It is related to the global network feedback, related to *c_0* here."
   ]
  },
  {
   "cell_type": "code",
   "execution_count": null,
   "metadata": {
    "collapsed": false,
    "deletable": true,
    "editable": true
   },
   "outputs": [],
   "source": [
    "plt.figure()\n",
    "plt.plot(vT, ndf.TotalEvolution(dc), c='r')\n",
    "plt.xlabel('integration time')\n",
    "plt.ylabel('total communicability')\n",
    "\n",
    "plt.show()"
   ]
  },
  {
   "cell_type": "code",
   "execution_count": null,
   "metadata": {
    "collapsed": false,
    "deletable": true,
    "editable": true
   },
   "outputs": [],
   "source": [
    "# evolution over time of sum of incoming/outgoing EC-based dynamic communicability for all nodes\n",
    "in_dc, out_dc = ndf.NodeEvolution(dc)\n",
    "\n",
    "# integration time to plot (rescaled by dt)\n",
    "vT_aff = np.array([0,10,20,30,40])\n",
    "vT_aff_lbl = np.array(vT_aff*dt, dtype=np.int)\n",
    "\n",
    "plt.figure()\n",
    "plt.imshow(in_dc.T, vmin=0, vmax=0.07, aspect=2.5, cmap='jet')\n",
    "plt.xticks(vT_aff, vT_aff_lbl)\n",
    "plt.yticks(range(N), np.arange(N)+1)\n",
    "plt.xlabel('integration time',fontsize=8)\n",
    "plt.ylabel('node',fontsize=8)\n",
    "plt.colorbar(ticks=[0,0.05])\n",
    "plt.title('input communicability',fontsize=9)\n",
    "\n",
    "plt.figure()\n",
    "plt.imshow(out_dc.T, vmin=0, vmax=0.07, aspect=2.5, cmap='jet')\n",
    "plt.xticks(vT_aff, vT_aff_lbl)\n",
    "plt.yticks(range(N), np.arange(N)+1)\n",
    "plt.xlabel('integration time',fontsize=8)\n",
    "plt.ylabel('node',fontsize=8)\n",
    "plt.colorbar(ticks=[0,0.05])\n",
    "plt.title('output communicability',fontsize=9)\n",
    "\n",
    "plt.show()"
   ]
  },
  {
   "cell_type": "markdown",
   "metadata": {
    "deletable": true,
    "editable": true
   },
   "source": [
    "Communicability interactions are first aligned with the weights in the connectivity matrix. Then, for increasing integration times, they evolve to eventually become homogeneous."
   ]
  },
  {
   "cell_type": "code",
   "execution_count": null,
   "metadata": {
    "collapsed": false,
    "deletable": true,
    "editable": true
   },
   "outputs": [],
   "source": [
    "# comparison between communicability and EC matrices over time\n",
    "plt.figure()\n",
    "for i, t in enumerate([1,5,10]):\n",
    "    plt.subplot(1,3,i+1)\n",
    "    plt.plot(C, dc[int(t/dt)], '.r')\n",
    "    if i==1:\n",
    "        plt.xlabel('C weight')\n",
    "    if i==0:\n",
    "        plt.ylabel('communicability')\n",
    "    else:\n",
    "        plt.yticks([])\n",
    "    plt.axis(xmin=-0.001, xmax=1, ymin=0.001, ymax=0.04)\n",
    "    plt.title('t='+str(t))\n",
    "\n",
    "plt.figure()\n",
    "plt.plot(vT, ndf.Diversity(dc), color='r')\n",
    "plt.axis(ymin=0)\n",
    "plt.xlabel('integration time')\n",
    "plt.ylabel('communicability diversity')\n",
    "    \n",
    "plt.show()"
   ]
  },
  {
   "cell_type": "markdown",
   "metadata": {
    "deletable": true,
    "editable": true
   },
   "source": [
    "### Comparison with symmetric network"
   ]
  },
  {
   "cell_type": "code",
   "execution_count": null,
   "metadata": {
    "collapsed": false,
    "deletable": true,
    "editable": true
   },
   "outputs": [],
   "source": [
    "# symmetric version of the original C\n",
    "C_sym = 0.5 * (C + C.T)\n",
    "\n",
    "# dynamic communicability for symmetric network\n",
    "dc_sym =  ndf.DynCom(C_sym, tau, tmax=T, timestep=dt)\n",
    "\n",
    "# symmetric Jacobian\n",
    "J_sym = -np.eye(N) / tau + C_sym\n",
    "\n",
    "plt.figure(figsize=[3,3])\n",
    "plt.axes([0.2,0.25,0.65,0.65])\n",
    "plt.imshow(J_sym,origin='lower',interpolation='nearest',vmin=-1,vmax=1,cmap='bwr')\n",
    "plt.xticks(range(N),np.arange(N)+1,fontsize=12)\n",
    "plt.yticks(range(N),np.arange(N)+1,fontsize=12)\n",
    "plt.colorbar()\n",
    "plt.xlabel('target node',fontsize=12)\n",
    "plt.ylabel('source node',fontsize=12)\n",
    "\n",
    "# comparison of total communicability for the symmetric and the original connectivities\n",
    "\n",
    "plt.figure()\n",
    "plt.plot(vT, ndf.TotalEvolution(dc), c='r')\n",
    "plt.plot(vT, ndf.TotalEvolution(dc_sym), c='m')\n",
    "plt.legend(['original','symmetric'])\n",
    "plt.xlabel('integration time')\n",
    "plt.ylabel('total communicability')\n",
    "\n",
    "plt.show()"
   ]
  },
  {
   "cell_type": "markdown",
   "metadata": {
    "deletable": true,
    "editable": true
   },
   "source": [
    "### Comparison with open loop\n",
    "\n",
    "Now we remove a connection and redistribute its value to other nodes, keeping the total weight constant. The obtaine dopen loop has a much smaller total communicability."
   ]
  },
  {
   "cell_type": "code",
   "execution_count": null,
   "metadata": {
    "collapsed": false,
    "deletable": true,
    "editable": true
   },
   "outputs": [],
   "source": [
    "C_open = np.copy(C)\n",
    "C_open[-1,0] = 0\n",
    "C_open *= C.sum() / C_open.sum()\n",
    "\n",
    "# calculate dynamic communicability\n",
    "dc_open =  ndf.DynCom(C_open, tau, tmax=T, timestep=dt)\n",
    "\n",
    "# rewired Jacobian\n",
    "J_open = -np.eye(N) / tau + C_open\n",
    "\n",
    "plt.figure(figsize=[3,3])\n",
    "plt.axes([0.2,0.25,0.65,0.65])\n",
    "plt.imshow(J_open,origin='lower',interpolation='nearest',vmin=-1,vmax=1,cmap='bwr')\n",
    "plt.xticks(range(N),np.arange(N)+1,fontsize=12)\n",
    "plt.yticks(range(N),np.arange(N)+1,fontsize=12)\n",
    "plt.colorbar()\n",
    "plt.xlabel('target node',fontsize=12)\n",
    "plt.ylabel('source node',fontsize=12)\n",
    "\n",
    "# comparison of total communicability for the 3 configurations\n",
    "\n",
    "plt.figure()\n",
    "plt.plot(vT, ndf.TotalEvolution(dc), c='r')\n",
    "plt.plot(vT, ndf.TotalEvolution(dc_sym), c='m')\n",
    "plt.plot(vT, ndf.TotalEvolution(dc_open), c='b')\n",
    "plt.legend(['original','symmetric','open loop'])\n",
    "plt.xlabel('integration time')\n",
    "plt.ylabel('total communicability')\n",
    "\n",
    "plt.show()"
   ]
  },
  {
   "cell_type": "markdown",
   "metadata": {
    "deletable": true,
    "editable": true
   },
   "source": [
    "### Comparison with rewired network\n",
    "\n",
    "Now we rewire the network some of the existing connections to random nodes.\n",
    "\n",
    "The outcome may be an decrease of total communicability when the rewiring leads to an open loop or increased total communicability when it yields clusters of strongly connected nodes (with several closed loops)."
   ]
  },
  {
   "cell_type": "code",
   "execution_count": null,
   "metadata": {
    "collapsed": false,
    "deletable": true,
    "editable": true
   },
   "outputs": [],
   "source": [
    "p_rew = 0.3 # probability of rewiring (random network with p_rew=1)\n",
    "\n",
    "# rewiring C with probability p_rew for each existing connection\n",
    "C_rew = np.zeros(C.shape)\n",
    "for i in range(N):\n",
    "    for j in range(N):\n",
    "        if C[i,j]>0:\n",
    "            if np.random.rand()<p_rew:\n",
    "                i_rew = np.random.randint(N)\n",
    "                j_rew = np.random.randint(N)\n",
    "                while j_rew==i_rew:\n",
    "                    j_rew = np.random.randint(N)\n",
    "                C_rew[i_rew,j_rew] += C[i,j]\n",
    "            else:\n",
    "                C_rew[i,j] += C[i,j]\n",
    "\n",
    "# calculate dynamic communicability\n",
    "dc_rew =  ndf.DynCom(C_rew, tau, tmax=T, timestep=dt)\n",
    "\n",
    "# rewired Jacobian\n",
    "J_rew = -np.eye(N) / tau + C_rew\n",
    "\n",
    "plt.figure(figsize=[3,3])\n",
    "plt.axes([0.2,0.25,0.65,0.65])\n",
    "plt.imshow(J_rew,origin='lower',interpolation='nearest',vmin=-1,vmax=1,cmap='bwr')\n",
    "plt.xticks(range(N),np.arange(N)+1,fontsize=12)\n",
    "plt.yticks(range(N),np.arange(N)+1,fontsize=12)\n",
    "plt.colorbar()\n",
    "plt.xlabel('target node',fontsize=12)\n",
    "plt.ylabel('source node',fontsize=12)\n",
    "\n",
    "# comparison of total communicability for the 3 configurations\n",
    "\n",
    "plt.figure()\n",
    "plt.plot(vT, ndf.TotalEvolution(dc), c='r')\n",
    "plt.plot(vT, ndf.TotalEvolution(dc_sym), c='m')\n",
    "plt.plot(vT, ndf.TotalEvolution(dc_open), c='b')\n",
    "plt.plot(vT, ndf.TotalEvolution(dc_rew), c='g')\n",
    "plt.legend(['original','symmetric','open loop','rewired'])\n",
    "plt.xlabel('integration time')\n",
    "plt.ylabel('total communicability')\n",
    "\n",
    "plt.show()"
   ]
  },
  {
   "cell_type": "markdown",
   "metadata": {
    "deletable": true,
    "editable": true
   },
   "source": [
    "### Comparison with ring lattice connected up to several neighbors\n",
    "\n",
    "Now we come back to the original ring network and replace the single connection with the preceeding neighbor by several connections with the preceeding neighbors. This gives the same total communicability, but gives faster homogenization of the interactions between the nodes, which is reflected in the diversity."
   ]
  },
  {
   "cell_type": "code",
   "execution_count": null,
   "metadata": {
    "collapsed": false,
    "deletable": true,
    "editable": true
   },
   "outputs": [],
   "source": [
    "n = 2 # number of neighbors to connect (preceeding neighbors in the index order)\n",
    "\n",
    "# create random connectivity matrix\n",
    "C_n = np.zeros([N,N])\n",
    "for j in range(N): # target node\n",
    "    for i in range(j-n,j): # preceeding neighbors\n",
    "        C_n[i,j] = C[i-1,i] / n # connection from i to j\n",
    "\n",
    "# calculate dynamic communicability\n",
    "dc_n =  ndf.DynCom(C_n, tau, tmax=T, timestep=dt)\n",
    "\n",
    "# Jacobian\n",
    "J_n = -np.eye(N) / tau + C_n\n",
    "\n",
    "plt.figure(figsize=[3,3])\n",
    "plt.axes([0.2,0.25,0.65,0.65])\n",
    "plt.imshow(J_n,origin='lower',interpolation='nearest',vmin=-1,vmax=1,cmap='bwr')\n",
    "plt.xticks(range(N),np.arange(N)+1,fontsize=12)\n",
    "plt.yticks(range(N),np.arange(N)+1,fontsize=12)\n",
    "plt.colorbar()\n",
    "plt.xlabel('target node',fontsize=12)\n",
    "plt.ylabel('source node',fontsize=12)\n",
    "\n",
    "# comparison of total communicability for the 3 configurations\n",
    "plt.figure()\n",
    "plt.plot(vT, ndf.TotalEvolution(dc), c='r')\n",
    "plt.plot(vT, ndf.TotalEvolution(dc_sym), c='m')\n",
    "plt.plot(vT, ndf.TotalEvolution(dc_open), c='b')\n",
    "plt.plot(vT, ndf.TotalEvolution(dc_rew), c='g')\n",
    "plt.plot(vT, ndf.TotalEvolution(dc_n), c='c', ls='-.')\n",
    "plt.legend(['original','symmetric','open loop','rewired','multiple neighbors'])\n",
    "plt.xlabel('integration time')\n",
    "plt.ylabel('total communicability')\n",
    "\n",
    "# communicability matrix at 3 integration times\n",
    "for t in [1,3,6]:\n",
    "    plt.figure(figsize=[3,3])\n",
    "    plt.axes([0.2,0.25,0.65,0.65])\n",
    "    plt.imshow(dc_n[int(t/dt)],origin='lower',interpolation='nearest',vmin=0,vmax=0.02,cmap='Reds')\n",
    "    plt.xticks(range(N),np.arange(N)+1,fontsize=12)\n",
    "    plt.yticks(range(N),np.arange(N)+1,fontsize=12)\n",
    "    plt.colorbar(ticks=[0,0.01,0.02])\n",
    "    plt.xlabel('target node',fontsize=12)\n",
    "    plt.ylabel('source node',fontsize=12)\n",
    "    plt.title('integration time '+str(t),fontsize=12)\n",
    "\n",
    "plt.show()"
   ]
  },
  {
   "cell_type": "code",
   "execution_count": null,
   "metadata": {
    "collapsed": false,
    "deletable": true,
    "editable": true
   },
   "outputs": [],
   "source": [
    "# diversity\n",
    "plt.figure()\n",
    "plt.plot(vT, ndf.Diversity(dc), c='r')\n",
    "plt.plot(vT, ndf.Diversity(dc_sym), c='m')\n",
    "plt.plot(vT, ndf.Diversity(dc_open), c='b')\n",
    "plt.plot(vT, ndf.Diversity(dc_rew), c='g')\n",
    "plt.plot(vT, ndf.Diversity(dc_n), c='c')\n",
    "plt.legend(['original','symmetric','open loop','rewired','multiple neighbors'])\n",
    "plt.xlabel('integration time')\n",
    "plt.ylabel('communicability diversity')\n",
    "\n",
    "plt.show()"
   ]
  },
  {
   "cell_type": "markdown",
   "metadata": {
    "deletable": true,
    "editable": true
   },
   "source": [
    "Interestingly, the homogenization is quicker for the unidirectional loop with 2 neighbors than the symmetric loop, which also has two neighbors. This comes from the fact that the activity at a given node affect more distant nodes in the former configuration.\n",
    "\n",
    "Note that diversity diverges for the open loop, which comes from the fact that the mean of the communicability interactions decreases too quickly over time."
   ]
  }
 ],
 "metadata": {
  "kernelspec": {
   "display_name": "Python 3",
   "language": "python",
   "name": "python3"
  },
  "language_info": {
   "codemirror_mode": {
    "name": "ipython",
    "version": 3
   },
   "file_extension": ".py",
   "mimetype": "text/x-python",
   "name": "python",
   "nbconvert_exporter": "python",
   "pygments_lexer": "ipython3",
   "version": "3.5.2"
  }
 },
 "nbformat": 4,
 "nbformat_minor": 2
}
